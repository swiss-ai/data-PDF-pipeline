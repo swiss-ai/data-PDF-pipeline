{
 "cells": [
  {
   "cell_type": "code",
   "execution_count": 3,
   "id": "ac2f6ab7-0d6e-4bd0-b3a1-35997325fc97",
   "metadata": {},
   "outputs": [],
   "source": [
    "import os\n",
    "import fitz\n",
    "import pathlib\n",
    "import sys\n",
    "import pandas as pd\n",
    "from tqdm import tqdm\n",
    "import numpy as np\n",
    "sys.path.append('../')\n",
    "\n",
    "from llm_processing.pdf_processing import *\n",
    "from llm_callbacks import anthropic_callback, openai_callback\n",
    "from parser import SimpleTextRetreiver, PDFLLMParser"
   ]
  },
  {
   "cell_type": "code",
   "execution_count": 4,
   "id": "43b84296-0058-44da-bfb1-f45b0527aa49",
   "metadata": {},
   "outputs": [],
   "source": [
    "prompt_path = \"../prompts/complexity_prompt.txt\"\n",
    "# directory = \"./books/OpenStax/\"\n",
    "directory = \"../../data/regulations\"\n",
    "# directory = \"/Users/igorprotsenko/Downloads/0451/\"\n",
    "# directory = \"./data/resized_textbooks/\"\n",
    "write_path = '../../data/parser_processed/'\n",
    "visualize_path = '../../visualized/'"
   ]
  },
  {
   "cell_type": "code",
   "execution_count": 9,
   "id": "3fcc994d-1ec9-41e1-91d1-0b4177cba472",
   "metadata": {},
   "outputs": [],
   "source": [
    "# os.environ[\"openai_api_key\"] = \"your key\"\n",
    "# os.environ[\"anthropic_api_key\"] = \"your key\""
   ]
  },
  {
   "cell_type": "code",
   "execution_count": 8,
   "id": "de4b3386-0200-43ef-89bc-04b18562031d",
   "metadata": {},
   "outputs": [],
   "source": [
    "import os\n",
    "prompt = pathlib.Path(prompt_path).read_text()\n",
    "\n",
    "anthropic_func = anthropic_callback(prompt, model_version='claude-3-sonnet-20240229')\n",
    "# anthropic_func = anthropic_callback(prompt, model_version='claude-3-haiku-20240307')\n",
    "\n",
    "# openai_func = openai_callback(prompt, model_version='gpt-3.5-turbo-0125')\n",
    "openai_func = openai_callback(prompt, model_version='gpt-4-0125-preview')"
   ]
  },
  {
   "cell_type": "code",
   "execution_count": 10,
   "id": "ff1146e4-1a45-450d-aa04-37edcd1931af",
   "metadata": {},
   "outputs": [],
   "source": [
    "parser = PDFLLMParser(directory, write_path, visualize_path, openai_func)"
   ]
  },
  {
   "cell_type": "code",
   "execution_count": 20,
   "id": "a7c8c94f-73fb-46f6-829e-0f328769ef43",
   "metadata": {},
   "outputs": [],
   "source": [
    "all_pdfs = list(parser._scan_directory_for_pdfs())"
   ]
  },
  {
   "cell_type": "code",
   "execution_count": 25,
   "id": "8168627a-5378-4de1-b560-62e022d6ade6",
   "metadata": {},
   "outputs": [],
   "source": [
    "path  =  np.random.choice(list(parser._scan_directory_for_pdfs()))"
   ]
  },
  {
   "cell_type": "code",
   "execution_count": 26,
   "id": "7e66d16a-eae4-4393-b450-813766c04522",
   "metadata": {},
   "outputs": [
    {
     "name": "stderr",
     "output_type": "stream",
     "text": [
      "100%|██████████| 8/8 [00:00<00:00, 137.90it/s]\n"
     ]
    }
   ],
   "source": [
    "visualized = parser._plot_bbs(path)"
   ]
  },
  {
   "cell_type": "code",
   "execution_count": 27,
   "id": "5367e3f5-1c70-4dd5-a44c-406e0c95f3ac",
   "metadata": {},
   "outputs": [
    {
     "name": "stdout",
     "output_type": "stream",
     "text": [
      "Writing llm output to ../../data/parser_processed/gmbl-ausgabe-1985-16/scores\n"
     ]
    },
    {
     "name": "stderr",
     "output_type": "stream",
     "text": [
      "100%|██████████| 8/8 [00:08<00:00,  1.10s/it]"
     ]
    },
    {
     "name": "stdout",
     "output_type": "stream",
     "text": [
      "Finish doing llm inderence\n"
     ]
    },
    {
     "name": "stderr",
     "output_type": "stream",
     "text": [
      "\n"
     ]
    }
   ],
   "source": [
    "write_path = parser.analyze_files(path)"
   ]
  },
  {
   "cell_type": "code",
   "execution_count": 28,
   "id": "6225afd8-1afa-48c2-bfe2-f170d482e7b2",
   "metadata": {},
   "outputs": [],
   "source": [
    "metadata = parser.aggregate_metadata(write_path)"
   ]
  },
  {
   "cell_type": "code",
   "execution_count": 29,
   "id": "582bcbec-d145-4088-bcdc-24ad798aee75",
   "metadata": {},
   "outputs": [
    {
     "data": {
      "text/html": [
       "<div>\n",
       "<style scoped>\n",
       "    .dataframe tbody tr th:only-of-type {\n",
       "        vertical-align: middle;\n",
       "    }\n",
       "\n",
       "    .dataframe tbody tr th {\n",
       "        vertical-align: top;\n",
       "    }\n",
       "\n",
       "    .dataframe thead th {\n",
       "        text-align: right;\n",
       "    }\n",
       "</style>\n",
       "<table border=\"1\" class=\"dataframe\">\n",
       "  <thead>\n",
       "    <tr style=\"text-align: right;\">\n",
       "      <th></th>\n",
       "      <th>file_path</th>\n",
       "      <th>file_name</th>\n",
       "      <th>page_number</th>\n",
       "      <th>score</th>\n",
       "    </tr>\n",
       "  </thead>\n",
       "  <tbody>\n",
       "    <tr>\n",
       "      <th>0</th>\n",
       "      <td>../../data/parser_processed/gmbl-ausgabe-1985-...</td>\n",
       "      <td>gmbl-ausgabe-1985-16</td>\n",
       "      <td>1</td>\n",
       "      <td>0.45</td>\n",
       "    </tr>\n",
       "    <tr>\n",
       "      <th>1</th>\n",
       "      <td>../../data/parser_processed/gmbl-ausgabe-1985-...</td>\n",
       "      <td>gmbl-ausgabe-1985-16</td>\n",
       "      <td>2</td>\n",
       "      <td>0.55</td>\n",
       "    </tr>\n",
       "    <tr>\n",
       "      <th>2</th>\n",
       "      <td>../../data/parser_processed/gmbl-ausgabe-1985-...</td>\n",
       "      <td>gmbl-ausgabe-1985-16</td>\n",
       "      <td>3</td>\n",
       "      <td>0.60</td>\n",
       "    </tr>\n",
       "    <tr>\n",
       "      <th>3</th>\n",
       "      <td>../../data/parser_processed/gmbl-ausgabe-1985-...</td>\n",
       "      <td>gmbl-ausgabe-1985-16</td>\n",
       "      <td>4</td>\n",
       "      <td>0.60</td>\n",
       "    </tr>\n",
       "    <tr>\n",
       "      <th>4</th>\n",
       "      <td>../../data/parser_processed/gmbl-ausgabe-1985-...</td>\n",
       "      <td>gmbl-ausgabe-1985-16</td>\n",
       "      <td>5</td>\n",
       "      <td>0.50</td>\n",
       "    </tr>\n",
       "    <tr>\n",
       "      <th>5</th>\n",
       "      <td>../../data/parser_processed/gmbl-ausgabe-1985-...</td>\n",
       "      <td>gmbl-ausgabe-1985-16</td>\n",
       "      <td>6</td>\n",
       "      <td>0.55</td>\n",
       "    </tr>\n",
       "    <tr>\n",
       "      <th>6</th>\n",
       "      <td>../../data/parser_processed/gmbl-ausgabe-1985-...</td>\n",
       "      <td>gmbl-ausgabe-1985-16</td>\n",
       "      <td>7</td>\n",
       "      <td>0.60</td>\n",
       "    </tr>\n",
       "    <tr>\n",
       "      <th>7</th>\n",
       "      <td>../../data/parser_processed/gmbl-ausgabe-1985-...</td>\n",
       "      <td>gmbl-ausgabe-1985-16</td>\n",
       "      <td>8</td>\n",
       "      <td>0.40</td>\n",
       "    </tr>\n",
       "  </tbody>\n",
       "</table>\n",
       "</div>"
      ],
      "text/plain": [
       "                                           file_path             file_name  \\\n",
       "0  ../../data/parser_processed/gmbl-ausgabe-1985-...  gmbl-ausgabe-1985-16   \n",
       "1  ../../data/parser_processed/gmbl-ausgabe-1985-...  gmbl-ausgabe-1985-16   \n",
       "2  ../../data/parser_processed/gmbl-ausgabe-1985-...  gmbl-ausgabe-1985-16   \n",
       "3  ../../data/parser_processed/gmbl-ausgabe-1985-...  gmbl-ausgabe-1985-16   \n",
       "4  ../../data/parser_processed/gmbl-ausgabe-1985-...  gmbl-ausgabe-1985-16   \n",
       "5  ../../data/parser_processed/gmbl-ausgabe-1985-...  gmbl-ausgabe-1985-16   \n",
       "6  ../../data/parser_processed/gmbl-ausgabe-1985-...  gmbl-ausgabe-1985-16   \n",
       "7  ../../data/parser_processed/gmbl-ausgabe-1985-...  gmbl-ausgabe-1985-16   \n",
       "\n",
       "   page_number  score  \n",
       "0            1   0.45  \n",
       "1            2   0.55  \n",
       "2            3   0.60  \n",
       "3            4   0.60  \n",
       "4            5   0.50  \n",
       "5            6   0.55  \n",
       "6            7   0.60  \n",
       "7            8   0.40  "
      ]
     },
     "execution_count": 29,
     "metadata": {},
     "output_type": "execute_result"
    }
   ],
   "source": [
    "pd.read_csv(metadata, dtype={\"file_name\": str})"
   ]
  },
  {
   "cell_type": "code",
   "execution_count": 30,
   "id": "74f306ed-51b7-4638-a1ba-8aca17900e2d",
   "metadata": {},
   "outputs": [
    {
     "name": "stdout",
     "output_type": "stream",
     "text": [
      "Parsing easy examples\n",
      "No rows with given threshold\n"
     ]
    }
   ],
   "source": [
    "print(\"Parsing easy examples\")\n",
    "parser.parse_pdfs(metadata, threshold=.3)"
   ]
  },
  {
   "cell_type": "code",
   "execution_count": 31,
   "id": "b84db659-272c-451e-8af6-659cf243286d",
   "metadata": {},
   "outputs": [
    {
     "name": "stdout",
     "output_type": "stream",
     "text": [
      "Parsing difficult examples\n"
     ]
    },
    {
     "name": "stderr",
     "output_type": "stream",
     "text": [
      "100%|██████████| 7/7 [00:00<00:00, 49.79it/s]\n"
     ]
    },
    {
     "data": {
      "text/plain": [
       "PosixPath('../../data/parser_processed/gmbl-ausgabe-1985-16/parsed_text/complex')"
      ]
     },
     "execution_count": 31,
     "metadata": {},
     "output_type": "execute_result"
    }
   ],
   "source": [
    "print(\"Parsing difficult examples\")\n",
    "parser.parse_pdfs(metadata, threshold=.4, is_greater=True)"
   ]
  }
 ],
 "metadata": {
  "kernelspec": {
   "display_name": "Python 3 (ipykernel)",
   "language": "python",
   "name": "python3"
  },
  "language_info": {
   "codemirror_mode": {
    "name": "ipython",
    "version": 3
   },
   "file_extension": ".py",
   "mimetype": "text/x-python",
   "name": "python",
   "nbconvert_exporter": "python",
   "pygments_lexer": "ipython3",
   "version": "3.11.5"
  }
 },
 "nbformat": 4,
 "nbformat_minor": 5
}
