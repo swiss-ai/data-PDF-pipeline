{
 "cells": [
  {
   "cell_type": "code",
   "execution_count": 3,
   "id": "ac2f6ab7-0d6e-4bd0-b3a1-35997325fc97",
   "metadata": {},
   "outputs": [],
   "source": [
    "import os\n",
    "import fitz\n",
    "import pathlib\n",
    "import sys\n",
    "import pandas as pd\n",
    "from tqdm import tqdm\n",
    "\n",
    "from pdf_processing import *\n",
    "from llm_callbacks import anthropic_callback, openai_callback\n",
    "from parser import SimpleTextRetreiver, PDFLLMParser"
   ]
  },
  {
   "cell_type": "code",
   "execution_count": 4,
   "id": "43b84296-0058-44da-bfb1-f45b0527aa49",
   "metadata": {},
   "outputs": [],
   "source": [
    "prompt_path = \"./prompts/complexity_prompt.txt\"\n",
    "# directory = \"./books/OpenStax/\"\n",
    "directory = \"/Users/igorprotsenko/Desktop/books/\"\n",
    "# directory = \"./data/resized_textbooks/\"\n",
    "write_path = '../data/processed_output/gpt_4_ouput/'\n",
    "visualize_path = '../visualized/'"
   ]
  },
  {
   "cell_type": "code",
   "execution_count": 5,
   "id": "3fcc994d-1ec9-41e1-91d1-0b4177cba472",
   "metadata": {},
   "outputs": [],
   "source": [
    "\n",
    "os.environ[\"openai_api_key\"] = \"...\"\n",
    "os.environ[\"anthropic_api_key\"] = \"...\"\n"
   ]
  },
  {
   "cell_type": "code",
   "execution_count": 11,
   "id": "de4b3386-0200-43ef-89bc-04b18562031d",
   "metadata": {},
   "outputs": [],
   "source": [
    "import os\n",
    "prompt = pathlib.Path(prompt_path).read_text()\n",
    "\n",
    "anthropic_func = anthropic_callback(prompt, model_version='claude-3-sonnet-20240229')\n",
    "# anthropic_func = anthropic_callback(prompt, model_version='claude-3-haiku-20240307')\n",
    "\n",
    "# openai_func = openai_callback(prompt, model_version='gpt-3.5-turbo-0125')\n",
    "openai_func = openai_callback(prompt, model_version='gpt-4-0125-preview')"
   ]
  },
  {
   "cell_type": "code",
   "execution_count": 12,
   "id": "ff1146e4-1a45-450d-aa04-37edcd1931af",
   "metadata": {},
   "outputs": [],
   "source": [
    "parser = PDFLLMParser(directory, write_path, visualize_path, openai_func)"
   ]
  },
  {
   "cell_type": "code",
   "execution_count": 13,
   "id": "a7c8c94f-73fb-46f6-829e-0f328769ef43",
   "metadata": {},
   "outputs": [],
   "source": [
    "all_pdfs = list(parser._scan_directory_for_pdfs())"
   ]
  },
  {
   "cell_type": "code",
   "execution_count": 14,
   "id": "485eff9b-4e65-4a4c-9abb-712b83ac4715",
   "metadata": {},
   "outputs": [],
   "source": [
    "path  =  list(parser._scan_directory_for_pdfs())[7]"
   ]
  },
  {
   "cell_type": "code",
   "execution_count": 15,
   "id": "7e66d16a-eae4-4393-b450-813766c04522",
   "metadata": {},
   "outputs": [
    {
     "name": "stderr",
     "output_type": "stream",
     "text": [
      "100%|█████████████████████████████████████████████████████████████████████████████████████████████████████████████████████████████████████████████████████████████████████████████| 32/32 [00:00<00:00, 375.41it/s]\n"
     ]
    }
   ],
   "source": [
    "visualized = parser._plot_bbs(path)"
   ]
  },
  {
   "cell_type": "code",
   "execution_count": 17,
   "id": "a64987da-3c24-4ce7-8c27-131ef461f6f2",
   "metadata": {},
   "outputs": [
    {
     "name": "stdout",
     "output_type": "stream",
     "text": [
      "../visualized/books_Script_PHYS200_fluids.pdf\n"
     ]
    }
   ],
   "source": [
    "print(visualized)"
   ]
  },
  {
   "cell_type": "code",
   "execution_count": 16,
   "id": "5367e3f5-1c70-4dd5-a44c-406e0c95f3ac",
   "metadata": {},
   "outputs": [
    {
     "name": "stdout",
     "output_type": "stream",
     "text": [
      "Writing llm output to ../data/processed_output/gpt_4_ouput/Script_PHYS200_fluids/scores\n"
     ]
    },
    {
     "name": "stderr",
     "output_type": "stream",
     "text": [
      "100%|██████████████████████████████████████████████████████████████████████████████████████████████████████████████████████████████████████████████████████████████████████████████| 32/32 [00:42<00:00,  1.32s/it]"
     ]
    },
    {
     "name": "stdout",
     "output_type": "stream",
     "text": [
      "Finish doing llm inderence\n"
     ]
    },
    {
     "name": "stderr",
     "output_type": "stream",
     "text": [
      "\n"
     ]
    }
   ],
   "source": [
    "write_path = parser.analyze_files(path)"
   ]
  },
  {
   "cell_type": "code",
   "execution_count": 18,
   "id": "81059ed6-9fd5-4f25-bb5c-ccf9a3317382",
   "metadata": {},
   "outputs": [
    {
     "name": "stdout",
     "output_type": "stream",
     "text": [
      "../data/processed_output/gpt_4_ouput/Script_PHYS200_fluids/scores\n"
     ]
    }
   ],
   "source": [
    "print(write_path)"
   ]
  },
  {
   "cell_type": "code",
   "execution_count": 20,
   "id": "6225afd8-1afa-48c2-bfe2-f170d482e7b2",
   "metadata": {},
   "outputs": [],
   "source": [
    "metadata = parser.aggregate_metadata(write_path)"
   ]
  },
  {
   "cell_type": "code",
   "execution_count": 23,
   "id": "b01f6c03-6cbd-40c3-9077-072f18da9b16",
   "metadata": {},
   "outputs": [
    {
     "name": "stdout",
     "output_type": "stream",
     "text": [
      "../data/processed_output/gpt_4_ouput/Script_PHYS200_fluids/scores/metadata.csv\n"
     ]
    }
   ],
   "source": [
    "print(metadata)"
   ]
  },
  {
   "cell_type": "code",
   "execution_count": 25,
   "id": "582bcbec-d145-4088-bcdc-24ad798aee75",
   "metadata": {},
   "outputs": [
    {
     "data": {
      "text/html": [
       "<div>\n",
       "<style scoped>\n",
       "    .dataframe tbody tr th:only-of-type {\n",
       "        vertical-align: middle;\n",
       "    }\n",
       "\n",
       "    .dataframe tbody tr th {\n",
       "        vertical-align: top;\n",
       "    }\n",
       "\n",
       "    .dataframe thead th {\n",
       "        text-align: right;\n",
       "    }\n",
       "</style>\n",
       "<table border=\"1\" class=\"dataframe\">\n",
       "  <thead>\n",
       "    <tr style=\"text-align: right;\">\n",
       "      <th></th>\n",
       "      <th>file_path</th>\n",
       "      <th>file_name</th>\n",
       "      <th>page_number</th>\n",
       "      <th>score</th>\n",
       "    </tr>\n",
       "  </thead>\n",
       "  <tbody>\n",
       "    <tr>\n",
       "      <th>0</th>\n",
       "      <td>../data/processed_output/gpt_4_ouput/Script_PH...</td>\n",
       "      <td>Script_PHYS200_fluids</td>\n",
       "      <td>29</td>\n",
       "      <td>0.40</td>\n",
       "    </tr>\n",
       "    <tr>\n",
       "      <th>1</th>\n",
       "      <td>../data/processed_output/gpt_4_ouput/Script_PH...</td>\n",
       "      <td>Script_PHYS200_fluids</td>\n",
       "      <td>15</td>\n",
       "      <td>0.70</td>\n",
       "    </tr>\n",
       "    <tr>\n",
       "      <th>2</th>\n",
       "      <td>../data/processed_output/gpt_4_ouput/Script_PH...</td>\n",
       "      <td>Script_PHYS200_fluids</td>\n",
       "      <td>14</td>\n",
       "      <td>0.70</td>\n",
       "    </tr>\n",
       "    <tr>\n",
       "      <th>3</th>\n",
       "      <td>../data/processed_output/gpt_4_ouput/Script_PH...</td>\n",
       "      <td>Script_PHYS200_fluids</td>\n",
       "      <td>28</td>\n",
       "      <td>0.55</td>\n",
       "    </tr>\n",
       "    <tr>\n",
       "      <th>4</th>\n",
       "      <td>../data/processed_output/gpt_4_ouput/Script_PH...</td>\n",
       "      <td>Script_PHYS200_fluids</td>\n",
       "      <td>16</td>\n",
       "      <td>0.35</td>\n",
       "    </tr>\n",
       "    <tr>\n",
       "      <th>5</th>\n",
       "      <td>../data/processed_output/gpt_4_ouput/Script_PH...</td>\n",
       "      <td>Script_PHYS200_fluids</td>\n",
       "      <td>17</td>\n",
       "      <td>0.60</td>\n",
       "    </tr>\n",
       "    <tr>\n",
       "      <th>6</th>\n",
       "      <td>../data/processed_output/gpt_4_ouput/Script_PH...</td>\n",
       "      <td>Script_PHYS200_fluids</td>\n",
       "      <td>13</td>\n",
       "      <td>0.65</td>\n",
       "    </tr>\n",
       "    <tr>\n",
       "      <th>7</th>\n",
       "      <td>../data/processed_output/gpt_4_ouput/Script_PH...</td>\n",
       "      <td>Script_PHYS200_fluids</td>\n",
       "      <td>12</td>\n",
       "      <td>0.55</td>\n",
       "    </tr>\n",
       "    <tr>\n",
       "      <th>8</th>\n",
       "      <td>../data/processed_output/gpt_4_ouput/Script_PH...</td>\n",
       "      <td>Script_PHYS200_fluids</td>\n",
       "      <td>10</td>\n",
       "      <td>0.50</td>\n",
       "    </tr>\n",
       "    <tr>\n",
       "      <th>9</th>\n",
       "      <td>../data/processed_output/gpt_4_ouput/Script_PH...</td>\n",
       "      <td>Script_PHYS200_fluids</td>\n",
       "      <td>11</td>\n",
       "      <td>0.55</td>\n",
       "    </tr>\n",
       "    <tr>\n",
       "      <th>10</th>\n",
       "      <td>../data/processed_output/gpt_4_ouput/Script_PH...</td>\n",
       "      <td>Script_PHYS200_fluids</td>\n",
       "      <td>9</td>\n",
       "      <td>0.65</td>\n",
       "    </tr>\n",
       "    <tr>\n",
       "      <th>11</th>\n",
       "      <td>../data/processed_output/gpt_4_ouput/Script_PH...</td>\n",
       "      <td>Script_PHYS200_fluids</td>\n",
       "      <td>8</td>\n",
       "      <td>0.50</td>\n",
       "    </tr>\n",
       "    <tr>\n",
       "      <th>12</th>\n",
       "      <td>../data/processed_output/gpt_4_ouput/Script_PH...</td>\n",
       "      <td>Script_PHYS200_fluids</td>\n",
       "      <td>5</td>\n",
       "      <td>0.50</td>\n",
       "    </tr>\n",
       "    <tr>\n",
       "      <th>13</th>\n",
       "      <td>../data/processed_output/gpt_4_ouput/Script_PH...</td>\n",
       "      <td>Script_PHYS200_fluids</td>\n",
       "      <td>4</td>\n",
       "      <td>0.60</td>\n",
       "    </tr>\n",
       "    <tr>\n",
       "      <th>14</th>\n",
       "      <td>../data/processed_output/gpt_4_ouput/Script_PH...</td>\n",
       "      <td>Script_PHYS200_fluids</td>\n",
       "      <td>6</td>\n",
       "      <td>0.60</td>\n",
       "    </tr>\n",
       "    <tr>\n",
       "      <th>15</th>\n",
       "      <td>../data/processed_output/gpt_4_ouput/Script_PH...</td>\n",
       "      <td>Script_PHYS200_fluids</td>\n",
       "      <td>7</td>\n",
       "      <td>0.40</td>\n",
       "    </tr>\n",
       "    <tr>\n",
       "      <th>16</th>\n",
       "      <td>../data/processed_output/gpt_4_ouput/Script_PH...</td>\n",
       "      <td>Script_PHYS200_fluids</td>\n",
       "      <td>3</td>\n",
       "      <td>0.20</td>\n",
       "    </tr>\n",
       "    <tr>\n",
       "      <th>17</th>\n",
       "      <td>../data/processed_output/gpt_4_ouput/Script_PH...</td>\n",
       "      <td>Script_PHYS200_fluids</td>\n",
       "      <td>2</td>\n",
       "      <td>0.30</td>\n",
       "    </tr>\n",
       "    <tr>\n",
       "      <th>18</th>\n",
       "      <td>../data/processed_output/gpt_4_ouput/Script_PH...</td>\n",
       "      <td>Script_PHYS200_fluids</td>\n",
       "      <td>1</td>\n",
       "      <td>0.40</td>\n",
       "    </tr>\n",
       "    <tr>\n",
       "      <th>19</th>\n",
       "      <td>../data/processed_output/gpt_4_ouput/Script_PH...</td>\n",
       "      <td>Script_PHYS200_fluids</td>\n",
       "      <td>20</td>\n",
       "      <td>0.55</td>\n",
       "    </tr>\n",
       "    <tr>\n",
       "      <th>20</th>\n",
       "      <td>../data/processed_output/gpt_4_ouput/Script_PH...</td>\n",
       "      <td>Script_PHYS200_fluids</td>\n",
       "      <td>21</td>\n",
       "      <td>0.35</td>\n",
       "    </tr>\n",
       "    <tr>\n",
       "      <th>21</th>\n",
       "      <td>../data/processed_output/gpt_4_ouput/Script_PH...</td>\n",
       "      <td>Script_PHYS200_fluids</td>\n",
       "      <td>23</td>\n",
       "      <td>0.70</td>\n",
       "    </tr>\n",
       "    <tr>\n",
       "      <th>22</th>\n",
       "      <td>../data/processed_output/gpt_4_ouput/Script_PH...</td>\n",
       "      <td>Script_PHYS200_fluids</td>\n",
       "      <td>22</td>\n",
       "      <td>0.60</td>\n",
       "    </tr>\n",
       "    <tr>\n",
       "      <th>23</th>\n",
       "      <td>../data/processed_output/gpt_4_ouput/Script_PH...</td>\n",
       "      <td>Script_PHYS200_fluids</td>\n",
       "      <td>26</td>\n",
       "      <td>0.70</td>\n",
       "    </tr>\n",
       "    <tr>\n",
       "      <th>24</th>\n",
       "      <td>../data/processed_output/gpt_4_ouput/Script_PH...</td>\n",
       "      <td>Script_PHYS200_fluids</td>\n",
       "      <td>32</td>\n",
       "      <td>0.20</td>\n",
       "    </tr>\n",
       "    <tr>\n",
       "      <th>25</th>\n",
       "      <td>../data/processed_output/gpt_4_ouput/Script_PH...</td>\n",
       "      <td>Script_PHYS200_fluids</td>\n",
       "      <td>27</td>\n",
       "      <td>0.70</td>\n",
       "    </tr>\n",
       "    <tr>\n",
       "      <th>26</th>\n",
       "      <td>../data/processed_output/gpt_4_ouput/Script_PH...</td>\n",
       "      <td>Script_PHYS200_fluids</td>\n",
       "      <td>31</td>\n",
       "      <td>0.10</td>\n",
       "    </tr>\n",
       "    <tr>\n",
       "      <th>27</th>\n",
       "      <td>../data/processed_output/gpt_4_ouput/Script_PH...</td>\n",
       "      <td>Script_PHYS200_fluids</td>\n",
       "      <td>25</td>\n",
       "      <td>0.70</td>\n",
       "    </tr>\n",
       "    <tr>\n",
       "      <th>28</th>\n",
       "      <td>../data/processed_output/gpt_4_ouput/Script_PH...</td>\n",
       "      <td>Script_PHYS200_fluids</td>\n",
       "      <td>19</td>\n",
       "      <td>0.70</td>\n",
       "    </tr>\n",
       "    <tr>\n",
       "      <th>29</th>\n",
       "      <td>../data/processed_output/gpt_4_ouput/Script_PH...</td>\n",
       "      <td>Script_PHYS200_fluids</td>\n",
       "      <td>18</td>\n",
       "      <td>0.70</td>\n",
       "    </tr>\n",
       "    <tr>\n",
       "      <th>30</th>\n",
       "      <td>../data/processed_output/gpt_4_ouput/Script_PH...</td>\n",
       "      <td>Script_PHYS200_fluids</td>\n",
       "      <td>24</td>\n",
       "      <td>0.65</td>\n",
       "    </tr>\n",
       "    <tr>\n",
       "      <th>31</th>\n",
       "      <td>../data/processed_output/gpt_4_ouput/Script_PH...</td>\n",
       "      <td>Script_PHYS200_fluids</td>\n",
       "      <td>30</td>\n",
       "      <td>0.50</td>\n",
       "    </tr>\n",
       "  </tbody>\n",
       "</table>\n",
       "</div>"
      ],
      "text/plain": [
       "                                            file_path              file_name  \\\n",
       "0   ../data/processed_output/gpt_4_ouput/Script_PH...  Script_PHYS200_fluids   \n",
       "1   ../data/processed_output/gpt_4_ouput/Script_PH...  Script_PHYS200_fluids   \n",
       "2   ../data/processed_output/gpt_4_ouput/Script_PH...  Script_PHYS200_fluids   \n",
       "3   ../data/processed_output/gpt_4_ouput/Script_PH...  Script_PHYS200_fluids   \n",
       "4   ../data/processed_output/gpt_4_ouput/Script_PH...  Script_PHYS200_fluids   \n",
       "5   ../data/processed_output/gpt_4_ouput/Script_PH...  Script_PHYS200_fluids   \n",
       "6   ../data/processed_output/gpt_4_ouput/Script_PH...  Script_PHYS200_fluids   \n",
       "7   ../data/processed_output/gpt_4_ouput/Script_PH...  Script_PHYS200_fluids   \n",
       "8   ../data/processed_output/gpt_4_ouput/Script_PH...  Script_PHYS200_fluids   \n",
       "9   ../data/processed_output/gpt_4_ouput/Script_PH...  Script_PHYS200_fluids   \n",
       "10  ../data/processed_output/gpt_4_ouput/Script_PH...  Script_PHYS200_fluids   \n",
       "11  ../data/processed_output/gpt_4_ouput/Script_PH...  Script_PHYS200_fluids   \n",
       "12  ../data/processed_output/gpt_4_ouput/Script_PH...  Script_PHYS200_fluids   \n",
       "13  ../data/processed_output/gpt_4_ouput/Script_PH...  Script_PHYS200_fluids   \n",
       "14  ../data/processed_output/gpt_4_ouput/Script_PH...  Script_PHYS200_fluids   \n",
       "15  ../data/processed_output/gpt_4_ouput/Script_PH...  Script_PHYS200_fluids   \n",
       "16  ../data/processed_output/gpt_4_ouput/Script_PH...  Script_PHYS200_fluids   \n",
       "17  ../data/processed_output/gpt_4_ouput/Script_PH...  Script_PHYS200_fluids   \n",
       "18  ../data/processed_output/gpt_4_ouput/Script_PH...  Script_PHYS200_fluids   \n",
       "19  ../data/processed_output/gpt_4_ouput/Script_PH...  Script_PHYS200_fluids   \n",
       "20  ../data/processed_output/gpt_4_ouput/Script_PH...  Script_PHYS200_fluids   \n",
       "21  ../data/processed_output/gpt_4_ouput/Script_PH...  Script_PHYS200_fluids   \n",
       "22  ../data/processed_output/gpt_4_ouput/Script_PH...  Script_PHYS200_fluids   \n",
       "23  ../data/processed_output/gpt_4_ouput/Script_PH...  Script_PHYS200_fluids   \n",
       "24  ../data/processed_output/gpt_4_ouput/Script_PH...  Script_PHYS200_fluids   \n",
       "25  ../data/processed_output/gpt_4_ouput/Script_PH...  Script_PHYS200_fluids   \n",
       "26  ../data/processed_output/gpt_4_ouput/Script_PH...  Script_PHYS200_fluids   \n",
       "27  ../data/processed_output/gpt_4_ouput/Script_PH...  Script_PHYS200_fluids   \n",
       "28  ../data/processed_output/gpt_4_ouput/Script_PH...  Script_PHYS200_fluids   \n",
       "29  ../data/processed_output/gpt_4_ouput/Script_PH...  Script_PHYS200_fluids   \n",
       "30  ../data/processed_output/gpt_4_ouput/Script_PH...  Script_PHYS200_fluids   \n",
       "31  ../data/processed_output/gpt_4_ouput/Script_PH...  Script_PHYS200_fluids   \n",
       "\n",
       "    page_number  score  \n",
       "0            29   0.40  \n",
       "1            15   0.70  \n",
       "2            14   0.70  \n",
       "3            28   0.55  \n",
       "4            16   0.35  \n",
       "5            17   0.60  \n",
       "6            13   0.65  \n",
       "7            12   0.55  \n",
       "8            10   0.50  \n",
       "9            11   0.55  \n",
       "10            9   0.65  \n",
       "11            8   0.50  \n",
       "12            5   0.50  \n",
       "13            4   0.60  \n",
       "14            6   0.60  \n",
       "15            7   0.40  \n",
       "16            3   0.20  \n",
       "17            2   0.30  \n",
       "18            1   0.40  \n",
       "19           20   0.55  \n",
       "20           21   0.35  \n",
       "21           23   0.70  \n",
       "22           22   0.60  \n",
       "23           26   0.70  \n",
       "24           32   0.20  \n",
       "25           27   0.70  \n",
       "26           31   0.10  \n",
       "27           25   0.70  \n",
       "28           19   0.70  \n",
       "29           18   0.70  \n",
       "30           24   0.65  \n",
       "31           30   0.50  "
      ]
     },
     "execution_count": 25,
     "metadata": {},
     "output_type": "execute_result"
    }
   ],
   "source": [
    "pd.read_csv(metadata)"
   ]
  },
  {
   "cell_type": "code",
   "execution_count": 26,
   "id": "74f306ed-51b7-4638-a1ba-8aca17900e2d",
   "metadata": {},
   "outputs": [
    {
     "name": "stdout",
     "output_type": "stream",
     "text": [
      "Parsing easy examples\n"
     ]
    },
    {
     "name": "stderr",
     "output_type": "stream",
     "text": [
      "100%|███████████████████████████████████████████████████████████████████████████████████████████████████████████████████████████████████████████████████████████████████████████████| 4/4 [00:00<00:00, 104.02it/s]\n"
     ]
    },
    {
     "data": {
      "text/plain": [
       "PosixPath('../data/processed_output/gpt_4_ouput/Script_PHYS200_fluids/parsed_text/easy')"
      ]
     },
     "execution_count": 26,
     "metadata": {},
     "output_type": "execute_result"
    }
   ],
   "source": [
    "print(\"Parsing easy examples\")\n",
    "parser.parse_pdfs(metadata, threshold=.3)"
   ]
  },
  {
   "cell_type": "code",
   "execution_count": 27,
   "id": "b84db659-272c-451e-8af6-659cf243286d",
   "metadata": {},
   "outputs": [
    {
     "name": "stdout",
     "output_type": "stream",
     "text": [
      "Parsing difficult examples\n"
     ]
    },
    {
     "name": "stderr",
     "output_type": "stream",
     "text": [
      "100%|█████████████████████████████████████████████████████████████████████████████████████████████████████████████████████████████████████████████████████████████████████████████| 23/23 [00:00<00:00, 118.65it/s]\n"
     ]
    },
    {
     "data": {
      "text/plain": [
       "PosixPath('../data/processed_output/gpt_4_ouput/Script_PHYS200_fluids/parsed_text/complex')"
      ]
     },
     "execution_count": 27,
     "metadata": {},
     "output_type": "execute_result"
    }
   ],
   "source": [
    "print(\"Parsing difficult examples\")\n",
    "parser.parse_pdfs(metadata, threshold=.4, is_greater=True)"
   ]
  }
 ],
 "metadata": {
  "kernelspec": {
   "display_name": "Python 3 (ipykernel)",
   "language": "python",
   "name": "python3"
  },
  "language_info": {
   "codemirror_mode": {
    "name": "ipython",
    "version": 3
   },
   "file_extension": ".py",
   "mimetype": "text/x-python",
   "name": "python",
   "nbconvert_exporter": "python",
   "pygments_lexer": "ipython3",
   "version": "3.9.6"
  }
 },
 "nbformat": 4,
 "nbformat_minor": 5
}
