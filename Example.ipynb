{
 "cells": [
  {
   "cell_type": "code",
   "execution_count": 1,
   "id": "ac2f6ab7-0d6e-4bd0-b3a1-35997325fc97",
   "metadata": {},
   "outputs": [],
   "source": [
    "import os\n",
    "import fitz\n",
    "import pathlib\n",
    "import sys\n",
    "import pandas as pd\n",
    "from tqdm import tqdm\n",
    "import numpy as np\n",
    "\n",
    "from pdf_processing import *\n",
    "from llm_callbacks import anthropic_callback, openai_callback\n",
    "from parser_1 import SimpleTextRetreiver, PDFLLMParser\n",
    "\n",
    "from dotenv import load_dotenv\n",
    "from pathlib import Path"
   ]
  },
  {
   "cell_type": "code",
   "execution_count": 2,
   "id": "025614a4-4274-4a44-a461-7e396389fafe",
   "metadata": {},
   "outputs": [],
   "source": [
    "# !pip3 freeze > requirements.txt"
   ]
  },
  {
   "cell_type": "code",
   "execution_count": 3,
   "id": "43b84296-0058-44da-bfb1-f45b0527aa49",
   "metadata": {},
   "outputs": [],
   "source": [
    "prompt_path = \"./prompts/complexity_prompt.txt\"\n",
    "directory = \"./data/\"\n",
    "write_path = './output/processed_output/'\n",
    "visualize_path = './output/visualizations/'"
   ]
  },
  {
   "cell_type": "code",
   "execution_count": 4,
   "id": "3fcc994d-1ec9-41e1-91d1-0b4177cba472",
   "metadata": {},
   "outputs": [],
   "source": [
    "load_dotenv()\n",
    "openai_api_key = os.getenv('OPENAI_API_KEY')\n",
    "\n",
    "os.environ[\"openai_api_key\"] = openai_api_key\n",
    "os.environ[\"anthropic_api_key\"] = \"...\"\n"
   ]
  },
  {
   "cell_type": "code",
   "execution_count": 5,
   "id": "4da7f44b",
   "metadata": {},
   "outputs": [
    {
     "name": "stdout",
     "output_type": "stream",
     "text": [
      "OpenAI API key is set.\n",
      "Masked Key: sk-S*******************************************By5n\n"
     ]
    }
   ],
   "source": [
    "if openai_api_key is not None:\n",
    "    print(\"OpenAI API key is set.\")\n",
    "    # Print a masked version of the API key\n",
    "    masked_key = openai_api_key[:4] + \"*\" * len(openai_api_key[4:-4]) + openai_api_key[-4:]\n",
    "    print(\"Masked Key:\", masked_key)\n",
    "else:\n",
    "    print(\"OpenAI API key is not set.\")"
   ]
  },
  {
   "cell_type": "code",
   "execution_count": 6,
   "id": "de4b3386-0200-43ef-89bc-04b18562031d",
   "metadata": {},
   "outputs": [],
   "source": [
    "import os\n",
    "prompt = pathlib.Path(prompt_path).read_text()\n",
    "\n",
    "anthropic_func = anthropic_callback(prompt, model_version='claude-3-sonnet-20240229')\n",
    "# anthropic_func = anthropic_callback(prompt, model_version='claude-3-haiku-20240307')\n",
    "\n",
    "# openai_func = openai_callback(prompt, model_version='gpt-3.5-turbo-0125')\n",
    "openai_func = openai_callback(prompt, model_version='gpt-4-0125-preview')"
   ]
  },
  {
   "cell_type": "code",
   "execution_count": 7,
   "id": "ff1146e4-1a45-450d-aa04-37edcd1931af",
   "metadata": {},
   "outputs": [],
   "source": [
    "parser = PDFLLMParser(directory, write_path, visualize_path, openai_func)"
   ]
  },
  {
   "cell_type": "code",
   "execution_count": 8,
   "id": "a7c8c94f-73fb-46f6-829e-0f328769ef43",
   "metadata": {},
   "outputs": [
    {
     "name": "stdout",
     "output_type": "stream",
     "text": [
      "[PosixPath('data/B1-Aerodynamique_English.pdf'), PosixPath('data/B1-Aerodynamique_English2.pdf'), PosixPath('data/B1-Aerodynamique_English1.pdf'), PosixPath('data/0000077.pdf')]\n"
     ]
    }
   ],
   "source": [
    "all_pdfs = list(parser._scan_directory_for_pdfs())\n",
    "print(all_pdfs)"
   ]
  },
  {
   "cell_type": "code",
   "execution_count": 9,
   "id": "485eff9b-4e65-4a4c-9abb-712b83ac4715",
   "metadata": {},
   "outputs": [
    {
     "name": "stdout",
     "output_type": "stream",
     "text": [
      "data/B1-Aerodynamique_English.pdf\n"
     ]
    }
   ],
   "source": [
    "path  =  list(parser._scan_directory_for_pdfs())[0]\n",
    "print(path)"
   ]
  },
  {
   "cell_type": "code",
   "execution_count": 52,
   "id": "8168627a-5378-4de1-b560-62e022d6ade6",
   "metadata": {},
   "outputs": [],
   "source": [
    "# path  =  np.random.choice(list(parser._scan_directory_for_pdfs()))"
   ]
  },
  {
   "cell_type": "code",
   "execution_count": 54,
   "id": "7e66d16a-eae4-4393-b450-813766c04522",
   "metadata": {},
   "outputs": [
    {
     "name": "stderr",
     "output_type": "stream",
     "text": [
      " 33%|███▎      | 2/6 [00:00<00:00, 16.65it/s]"
     ]
    },
    {
     "name": "stderr",
     "output_type": "stream",
     "text": [
      "100%|██████████| 6/6 [00:00<00:00, 25.75it/s]\n"
     ]
    }
   ],
   "source": [
    "visualized = parser._plot_bbs(path)"
   ]
  },
  {
   "cell_type": "code",
   "execution_count": 55,
   "id": "5367e3f5-1c70-4dd5-a44c-406e0c95f3ac",
   "metadata": {},
   "outputs": [
    {
     "name": "stdout",
     "output_type": "stream",
     "text": [
      "Writing llm output to output/processed_output/B1-Aerodynamique_English/scores\n"
     ]
    },
    {
     "name": "stderr",
     "output_type": "stream",
     "text": [
      "100%|██████████| 6/6 [00:08<00:00,  1.37s/it]"
     ]
    },
    {
     "name": "stdout",
     "output_type": "stream",
     "text": [
      "Finish doing llm inderence\n"
     ]
    },
    {
     "name": "stderr",
     "output_type": "stream",
     "text": [
      "\n"
     ]
    }
   ],
   "source": [
    "write_path = parser.analyze_files(path)"
   ]
  },
  {
   "cell_type": "code",
   "execution_count": 56,
   "id": "6225afd8-1afa-48c2-bfe2-f170d482e7b2",
   "metadata": {},
   "outputs": [],
   "source": [
    "metadata = parser.aggregate_metadata(write_path)"
   ]
  },
  {
   "cell_type": "code",
   "execution_count": 57,
   "id": "582bcbec-d145-4088-bcdc-24ad798aee75",
   "metadata": {},
   "outputs": [
    {
     "data": {
      "text/html": [
       "<div>\n",
       "<style scoped>\n",
       "    .dataframe tbody tr th:only-of-type {\n",
       "        vertical-align: middle;\n",
       "    }\n",
       "\n",
       "    .dataframe tbody tr th {\n",
       "        vertical-align: top;\n",
       "    }\n",
       "\n",
       "    .dataframe thead th {\n",
       "        text-align: right;\n",
       "    }\n",
       "</style>\n",
       "<table border=\"1\" class=\"dataframe\">\n",
       "  <thead>\n",
       "    <tr style=\"text-align: right;\">\n",
       "      <th></th>\n",
       "      <th>file_path</th>\n",
       "      <th>file_name</th>\n",
       "      <th>page_number</th>\n",
       "      <th>score</th>\n",
       "    </tr>\n",
       "  </thead>\n",
       "  <tbody>\n",
       "    <tr>\n",
       "      <th>0</th>\n",
       "      <td>output/processed_output/B1-Aerodynamique_Engli...</td>\n",
       "      <td>B1-Aerodynamique_English</td>\n",
       "      <td>2</td>\n",
       "      <td>0.60</td>\n",
       "    </tr>\n",
       "    <tr>\n",
       "      <th>1</th>\n",
       "      <td>output/processed_output/B1-Aerodynamique_Engli...</td>\n",
       "      <td>B1-Aerodynamique_English</td>\n",
       "      <td>5</td>\n",
       "      <td>0.55</td>\n",
       "    </tr>\n",
       "    <tr>\n",
       "      <th>2</th>\n",
       "      <td>output/processed_output/B1-Aerodynamique_Engli...</td>\n",
       "      <td>B1-Aerodynamique_English</td>\n",
       "      <td>6</td>\n",
       "      <td>0.55</td>\n",
       "    </tr>\n",
       "    <tr>\n",
       "      <th>3</th>\n",
       "      <td>output/processed_output/B1-Aerodynamique_Engli...</td>\n",
       "      <td>B1-Aerodynamique_English</td>\n",
       "      <td>3</td>\n",
       "      <td>0.55</td>\n",
       "    </tr>\n",
       "    <tr>\n",
       "      <th>4</th>\n",
       "      <td>output/processed_output/B1-Aerodynamique_Engli...</td>\n",
       "      <td>B1-Aerodynamique_English</td>\n",
       "      <td>1</td>\n",
       "      <td>0.55</td>\n",
       "    </tr>\n",
       "    <tr>\n",
       "      <th>5</th>\n",
       "      <td>output/processed_output/B1-Aerodynamique_Engli...</td>\n",
       "      <td>B1-Aerodynamique_English</td>\n",
       "      <td>4</td>\n",
       "      <td>0.50</td>\n",
       "    </tr>\n",
       "  </tbody>\n",
       "</table>\n",
       "</div>"
      ],
      "text/plain": [
       "                                           file_path  \\\n",
       "0  output/processed_output/B1-Aerodynamique_Engli...   \n",
       "1  output/processed_output/B1-Aerodynamique_Engli...   \n",
       "2  output/processed_output/B1-Aerodynamique_Engli...   \n",
       "3  output/processed_output/B1-Aerodynamique_Engli...   \n",
       "4  output/processed_output/B1-Aerodynamique_Engli...   \n",
       "5  output/processed_output/B1-Aerodynamique_Engli...   \n",
       "\n",
       "                  file_name  page_number  score  \n",
       "0  B1-Aerodynamique_English            2   0.60  \n",
       "1  B1-Aerodynamique_English            5   0.55  \n",
       "2  B1-Aerodynamique_English            6   0.55  \n",
       "3  B1-Aerodynamique_English            3   0.55  \n",
       "4  B1-Aerodynamique_English            1   0.55  \n",
       "5  B1-Aerodynamique_English            4   0.50  "
      ]
     },
     "execution_count": 57,
     "metadata": {},
     "output_type": "execute_result"
    }
   ],
   "source": [
    "pd.read_csv(metadata, dtype={\"file_name\": str})"
   ]
  },
  {
   "cell_type": "code",
   "execution_count": 58,
   "id": "74f306ed-51b7-4638-a1ba-8aca17900e2d",
   "metadata": {},
   "outputs": [
    {
     "name": "stdout",
     "output_type": "stream",
     "text": [
      "Parsing easy examples\n",
      "No rows with given threshold\n"
     ]
    }
   ],
   "source": [
    "print(\"Parsing easy examples\")\n",
    "parser.parse_pdfs(metadata, threshold=.3)"
   ]
  },
  {
   "cell_type": "code",
   "execution_count": 59,
   "id": "b84db659-272c-451e-8af6-659cf243286d",
   "metadata": {},
   "outputs": [
    {
     "name": "stdout",
     "output_type": "stream",
     "text": [
      "Parsing difficult examples\n"
     ]
    },
    {
     "name": "stderr",
     "output_type": "stream",
     "text": [
      "100%|██████████| 6/6 [00:00<00:00, 36.80it/s]\n"
     ]
    },
    {
     "data": {
      "text/plain": [
       "PosixPath('output/processed_output/B1-Aerodynamique_English/parsed_text/complex')"
      ]
     },
     "execution_count": 59,
     "metadata": {},
     "output_type": "execute_result"
    }
   ],
   "source": [
    "print(\"Parsing difficult examples\")\n",
    "parser.parse_pdfs(metadata, threshold=.4, is_greater=True)"
   ]
  },
  {
   "cell_type": "markdown",
   "id": "ecbd8a25",
   "metadata": {},
   "source": [
    "SECTION: Iterate through PDFs in Data and aggregate scores in a table"
   ]
  },
  {
   "cell_type": "code",
   "execution_count": 20,
   "id": "bac2ff19",
   "metadata": {},
   "outputs": [
    {
     "name": "stdout",
     "output_type": "stream",
     "text": [
      "Renaming complete.\n"
     ]
    }
   ],
   "source": [
    "# #Rename all pdfs to add \"id\" at the beginning, using simple count for now\n",
    "# data_directory = Path(\"data\")\n",
    "# pdf_files = list(data_directory.glob('*.pdf'))\n",
    "# # Iterate through each PDF file and rename it\n",
    "# for count, pdf_file in enumerate(pdf_files, start=1):\n",
    "#     #new file name\n",
    "#     new_name = f\"{count}.{pdf_file.name}\"\n",
    "#     #new file path\n",
    "#     new_file_path = pdf_file.parent / new_name\n",
    "#     # Rename the file\n",
    "#     pdf_file.rename(new_file_path)\n",
    "# print(\"Renaming complete.\")"
   ]
  },
  {
   "cell_type": "code",
   "execution_count": 7,
   "id": "65e4aab8",
   "metadata": {},
   "outputs": [
    {
     "name": "stdout",
     "output_type": "stream",
     "text": [
      "data/B1-Aerodynamique_English1.pdf\n",
      "4\n"
     ]
    }
   ],
   "source": [
    "parser = PDFLLMParser(directory, write_path, visualize_path, openai_func)\n",
    "data_directory = Path(\"data\")\n",
    "pdf_files = list(data_directory.glob('*.pdf'))\n",
    "\n",
    "path  =  list(parser._scan_directory_for_pdfs())[2]\n",
    "print(path)\n",
    "\n",
    "total_pdfs = len(pdf_files)\n",
    "print(total_pdfs)"
   ]
  },
  {
   "cell_type": "code",
   "execution_count": 10,
   "id": "213b09ef",
   "metadata": {},
   "outputs": [
    {
     "name": "stdout",
     "output_type": "stream",
     "text": [
      "Loop will process: 4 PDFs\n",
      "{'B1-Aerodynamique_English_1': {'complexity': '0.55', 'latex_count': 14, 'image_count': 4, 'error_count': 8}, 'B1-Aerodynamique_English_2': {'complexity': '0.6', 'latex_count': 25, 'image_count': 6, 'error_count': 16}, 'B1-Aerodynamique_English_3': {'complexity': '0.65', 'latex_count': 14, 'image_count': 14, 'error_count': 11}, 'B1-Aerodynamique_English_4': {'complexity': '0.55', 'latex_count': 4, 'image_count': 1, 'error_count': 0}, 'B1-Aerodynamique_English_5': {'complexity': '0.6', 'latex_count': 0, 'image_count': 3, 'error_count': 0}, 'B1-Aerodynamique_English_6': {'complexity': '0.55', 'latex_count': 20, 'image_count': 1, 'error_count': 13}, 'B1-Aerodynamique_English2_1': {'complexity': '0.65', 'latex_count': 25, 'image_count': 4, 'error_count': 16}, 'B1-Aerodynamique_English1_1': {'complexity': '0.6', 'latex_count': 14, 'image_count': 4, 'error_count': 8}, '0000077_1': {'complexity': '0.2', 'latex_count': 4, 'image_count': 0, 'error_count': 0}, '0000077_2': {'complexity': '0.1', 'latex_count': 5, 'image_count': 0, 'error_count': 0}, '0000077_3': {'complexity': '0.1', 'latex_count': 4, 'image_count': 0, 'error_count': 0}, '0000077_4': {'complexity': '0.1', 'latex_count': 2, 'image_count': 0, 'error_count': 0}}\n"
     ]
    }
   ],
   "source": [
    "#Loop\n",
    "print(f'Loop will process: {total_pdfs} PDFs')\n",
    "results_dict = {}\n",
    "for i in range(total_pdfs):\n",
    "    path  =  list(parser._scan_directory_for_pdfs())[i]\n",
    "    result = parser.analyze_to_dict(path, results_dict)\n",
    "    result = parser.latex_to_dict(path, results_dict)\n",
    "    result = parser.images_to_dict(path, results_dict)\n",
    "    result = parser.errors_to_dict(path, results_dict)\n",
    "\n",
    "print(results_dict)"
   ]
  },
  {
   "cell_type": "code",
   "execution_count": 11,
   "id": "952e74a9",
   "metadata": {},
   "outputs": [
    {
     "name": "stdout",
     "output_type": "stream",
     "text": [
      "                     pdf_name  page_num complexity_score  latex_count  \\\n",
      "0    B1-Aerodynamique_English         1             0.55           14   \n",
      "1    B1-Aerodynamique_English         2              0.6           25   \n",
      "2    B1-Aerodynamique_English         3             0.65           14   \n",
      "3    B1-Aerodynamique_English         4             0.55            4   \n",
      "4    B1-Aerodynamique_English         5              0.6            0   \n",
      "5    B1-Aerodynamique_English         6             0.55           20   \n",
      "6   B1-Aerodynamique_English2         1             0.65           25   \n",
      "7   B1-Aerodynamique_English1         1              0.6           14   \n",
      "8                     0000077         1              0.2            4   \n",
      "9                     0000077         2              0.1            5   \n",
      "10                    0000077         3              0.1            4   \n",
      "11                    0000077         4              0.1            2   \n",
      "\n",
      "    image_count  error_count  \n",
      "0             4            8  \n",
      "1             6           16  \n",
      "2            14           11  \n",
      "3             1            0  \n",
      "4             3            0  \n",
      "5             1           13  \n",
      "6             4           16  \n",
      "7             4            8  \n",
      "8             0            0  \n",
      "9             0            0  \n",
      "10            0            0  \n",
      "11            0            0  \n"
     ]
    }
   ],
   "source": [
    "# Sample structure of results_dict for clarity\n",
    "# results_dict = {\n",
    "#     'pdfname1_1': {'complexity': 0.5, 'latex_count': 2, 'image_count': 3},\n",
    "#     'pdfname1_2': {'complexity': 0.7, 'latex_count': 1, 'image_count': 2},\n",
    "# }\n",
    "\n",
    "# Transform the nested dictionary into a list of dictionaries for DataFrame construction\n",
    "data = []\n",
    "for key, values in results_dict.items():\n",
    "    pdf_name, page_num = key.rsplit('_', 1)\n",
    "    row = {\n",
    "        'pdf_name': pdf_name,\n",
    "        'page_num': int(page_num),  # Convert page number to integer\n",
    "        'complexity_score': values.get('complexity', None),\n",
    "        'latex_count': values.get('latex_count', None),\n",
    "        'image_count': values.get('image_count', None),\n",
    "        'error_count': values.get('error_count', None)\n",
    "    }\n",
    "    data.append(row)\n",
    "\n",
    "# Create the DataFrame\n",
    "df = pd.DataFrame(data)\n",
    "\n",
    "# Reorder DataFrame columns if necessary\n",
    "df = df[['pdf_name', 'page_num', 'complexity_score', 'latex_count', 'image_count', 'error_count']]\n",
    "\n",
    "# Display the DataFrame\n",
    "print(df)"
   ]
  },
  {
   "cell_type": "code",
   "execution_count": 17,
   "id": "261b660c",
   "metadata": {},
   "outputs": [
    {
     "name": "stdout",
     "output_type": "stream",
     "text": [
      "Loop will process: 4 PDFs\n"
     ]
    },
    {
     "name": "stderr",
     "output_type": "stream",
     "text": [
      "100%|██████████| 6/6 [00:00<00:00, 41.44it/s]\n"
     ]
    },
    {
     "name": "stdout",
     "output_type": "stream",
     "text": [
      "Writing llm output to output/processed_output/B1-Aerodynamique_English/scores\n"
     ]
    },
    {
     "name": "stderr",
     "output_type": "stream",
     "text": [
      "100%|██████████| 6/6 [00:13<00:00,  2.17s/it]\n"
     ]
    },
    {
     "name": "stdout",
     "output_type": "stream",
     "text": [
      "Finish doing llm inderence\n",
      "Parsing easy examples\n",
      "No rows with given threshold\n",
      "Parsing difficult examples\n"
     ]
    },
    {
     "name": "stderr",
     "output_type": "stream",
     "text": [
      "100%|██████████| 6/6 [00:00<00:00, 26.84it/s]\n",
      "100%|██████████| 1/1 [00:00<00:00, 19.75it/s]\n"
     ]
    },
    {
     "name": "stdout",
     "output_type": "stream",
     "text": [
      "Writing llm output to output/processed_output/B1-Aerodynamique_English2/scores\n"
     ]
    },
    {
     "name": "stderr",
     "output_type": "stream",
     "text": [
      "100%|██████████| 1/1 [00:01<00:00,  1.46s/it]\n"
     ]
    },
    {
     "name": "stdout",
     "output_type": "stream",
     "text": [
      "Finish doing llm inderence\n",
      "Parsing easy examples\n",
      "No rows with given threshold\n",
      "Parsing difficult examples\n"
     ]
    },
    {
     "name": "stderr",
     "output_type": "stream",
     "text": [
      "100%|██████████| 1/1 [00:00<00:00, 17.12it/s]\n",
      "100%|██████████| 1/1 [00:00<00:00, 13.21it/s]\n"
     ]
    },
    {
     "name": "stdout",
     "output_type": "stream",
     "text": [
      "Writing llm output to output/processed_output/B1-Aerodynamique_English1/scores\n"
     ]
    },
    {
     "name": "stderr",
     "output_type": "stream",
     "text": [
      "100%|██████████| 1/1 [00:01<00:00,  1.61s/it]\n"
     ]
    },
    {
     "name": "stdout",
     "output_type": "stream",
     "text": [
      "Finish doing llm inderence\n",
      "Parsing easy examples\n",
      "No rows with given threshold\n",
      "Parsing difficult examples\n"
     ]
    },
    {
     "name": "stderr",
     "output_type": "stream",
     "text": [
      "100%|██████████| 1/1 [00:00<00:00, 23.50it/s]\n",
      "100%|██████████| 4/4 [00:00<00:00, 115.02it/s]\n"
     ]
    },
    {
     "name": "stdout",
     "output_type": "stream",
     "text": [
      "Writing llm output to output/processed_output/0000077/scores\n"
     ]
    },
    {
     "name": "stderr",
     "output_type": "stream",
     "text": [
      "100%|██████████| 4/4 [00:05<00:00,  1.34s/it]\n"
     ]
    },
    {
     "name": "stdout",
     "output_type": "stream",
     "text": [
      "Finish doing llm inderence\n",
      "Parsing easy examples\n"
     ]
    },
    {
     "name": "stderr",
     "output_type": "stream",
     "text": [
      "100%|██████████| 4/4 [00:00<00:00, 75.57it/s]"
     ]
    },
    {
     "name": "stdout",
     "output_type": "stream",
     "text": [
      "Parsing difficult examples\n",
      "No rows with given threshold\n"
     ]
    },
    {
     "name": "stderr",
     "output_type": "stream",
     "text": [
      "\n"
     ]
    }
   ],
   "source": [
    "#Parsing all pdfs loop\n",
    "print(f'Loop will process: {total_pdfs} PDFs')\n",
    "results_dict = {}\n",
    "for i in range(total_pdfs):\n",
    "    path  =  list(parser._scan_directory_for_pdfs())[i]\n",
    "    visualized = parser._plot_bbs(path)\n",
    "    parser.parse_pdfs\n",
    "    write_path = parser.analyze_files(path)\n",
    "    metadata = parser.aggregate_metadata(write_path)\n",
    "    pd.read_csv(metadata, dtype={\"file_name\": str})\n",
    "    print(\"Parsing easy examples\")\n",
    "    parser.parse_pdfs(metadata, threshold=.3)\n",
    "    print(\"Parsing difficult examples\")\n",
    "    parser.parse_pdfs(metadata, threshold=.4, is_greater=True)\n",
    "\n",
    "    "
   ]
  },
  {
   "cell_type": "code",
   "execution_count": null,
   "id": "0e77fe7c",
   "metadata": {},
   "outputs": [],
   "source": []
  }
 ],
 "metadata": {
  "kernelspec": {
   "display_name": "Python 3 (ipykernel)",
   "language": "python",
   "name": "python3"
  },
  "language_info": {
   "codemirror_mode": {
    "name": "ipython",
    "version": 3
   },
   "file_extension": ".py",
   "mimetype": "text/x-python",
   "name": "python",
   "nbconvert_exporter": "python",
   "pygments_lexer": "ipython3",
   "version": "3.9.18"
  }
 },
 "nbformat": 4,
 "nbformat_minor": 5
}
